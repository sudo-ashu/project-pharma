{
  "nbformat": 4,
  "nbformat_minor": 0,
  "metadata": {
    "colab": {
      "private_outputs": true,
      "provenance": [],
      "authorship_tag": "ABX9TyM4dFai/Aj3PZ9SAKRVgyXi",
      "include_colab_link": true
    },
    "kernelspec": {
      "name": "python3",
      "display_name": "Python 3"
    },
    "language_info": {
      "name": "python"
    }
  },
  "cells": [
    {
      "cell_type": "markdown",
      "metadata": {
        "id": "view-in-github",
        "colab_type": "text"
      },
      "source": [
        "<a href=\"https://colab.research.google.com/github/sudo-ashu/project-pharma/blob/main/projectPharma.ipynb\" target=\"_parent\"><img src=\"https://colab.research.google.com/assets/colab-badge.svg\" alt=\"Open In Colab\"/></a>"
      ]
    },
    {
      "cell_type": "code",
      "source": [
        "import kagglehub\n",
        "pharma_data_path = kagglehub.dataset_download('milanzdravkovic/pharma-sales-data')\n",
        "\n",
        "print('data import complete')"
      ],
      "metadata": {
        "id": "JiM8B5pU_0QU"
      },
      "execution_count": null,
      "outputs": []
    },
    {
      "cell_type": "code",
      "source": [
        "import numpy as np\n",
        "import pandas as pd\n",
        "import seaborn as sns\n",
        "import matplotlib.pyplot as plt\n",
        "import os\n",
        "import statsmodels.api as sm\n",
        "import statsmodels\n",
        "#import datetime for dates and time realted calculations\n",
        "import datetime as dt\n",
        "from pandas.plotting import register_matplotlib_converters\n",
        "from statsmodels.tsa.stattools import adfuller\n",
        "from statsmodels.tsa.stattools import acf, pacf\n",
        "from statsmodels.tsa.arima_model import ARIMA\n",
        "register_matplotlib_converters()\n",
        "from time import time"
      ],
      "metadata": {
        "id": "aapRMI-RBwZv"
      },
      "execution_count": null,
      "outputs": []
    },
    {
      "cell_type": "markdown",
      "source": [
        "# **Data Reading**"
      ],
      "metadata": {
        "id": "N2ttoKPkEDVv"
      }
    },
    {
      "cell_type": "code",
      "source": [
        "#reading the data\n",
        "# (not needed data) hourly = pd.read_csv('/kaggle/input/pharma-sales-data/saleshourly.csv')\n",
        "daily = pd.read_csv('/kaggle/input/pharma-sales-data/salesdaily.csv')\n",
        "weekly = pd.read_csv('/kaggle/input/pharma-sales-data/salesweekly.csv')\n",
        "monthly = pd.read_csv('/kaggle/input/pharma-sales-data/salesmonthly.csv')"
      ],
      "metadata": {
        "id": "pG-_2eK5D-gP"
      },
      "execution_count": null,
      "outputs": []
    },
    {
      "cell_type": "markdown",
      "source": [
        "# **Analysing Data**"
      ],
      "metadata": {
        "id": "rRE5MKXXEIiU"
      }
    },
    {
      "cell_type": "code",
      "source": [
        "#function to print shape of a given data\n",
        "def print_shape(data):\n",
        "    print('Rows : ',data.shape[0])\n",
        "    print('Columns : ',data.shape[1])"
      ],
      "metadata": {
        "id": "jNgw5pLtD_We"
      },
      "execution_count": null,
      "outputs": []
    },
    {
      "cell_type": "code",
      "source": [
        "# print('Hourly Data')\n",
        "# print_shape(hourly)\n",
        "print('Daily Data')\n",
        "print_shape(daily)\n",
        "print('Weekly Data')\n",
        "print_shape(weekly)\n",
        "print('Monthly Data')\n",
        "print_shape(monthly)"
      ],
      "metadata": {
        "id": "DoCn113GEqL_"
      },
      "execution_count": null,
      "outputs": []
    },
    {
      "cell_type": "code",
      "source": [
        "daily.describe()"
      ],
      "metadata": {
        "collapsed": true,
        "id": "mSxUKCNdH9EX"
      },
      "execution_count": null,
      "outputs": []
    },
    {
      "cell_type": "code",
      "source": [
        "weekly.describe()"
      ],
      "metadata": {
        "collapsed": true,
        "id": "gR3aLzW1H9kl"
      },
      "execution_count": null,
      "outputs": []
    },
    {
      "cell_type": "code",
      "source": [
        "monthly.describe()"
      ],
      "metadata": {
        "collapsed": true,
        "id": "QHuX4cxRIB0V"
      },
      "execution_count": null,
      "outputs": []
    },
    {
      "cell_type": "markdown",
      "source": [
        "we see that the datum colum (which contanis the date) is of type object. So, we have to change its type to datetime type in each csv file. But before that we will make copies of the csv files."
      ],
      "metadata": {
        "id": "5dVAH-n1GxfC"
      }
    },
    {
      "cell_type": "code",
      "source": [
        "#copy the data\n",
        "# (not needed) copy_hourly = hourly.copy()\n",
        "copy_daily = daily.copy()\n",
        "copy_weekly = weekly.copy()\n",
        "copy_monthly = monthly.copy()"
      ],
      "metadata": {
        "id": "8VhlRLDYHEp_"
      },
      "execution_count": null,
      "outputs": []
    },
    {
      "cell_type": "code",
      "source": [
        "# hourly['datum'] = pd.to_datetime(hourly['datum'], format= '%m/%d/%Y %H:%M')\n",
        "daily['datum'] = pd.to_datetime(daily['datum'], format= '%m/%d/%Y')\n",
        "weekly['datum'] = pd.to_datetime(weekly['datum'], format= '%m/%d/%Y')\n",
        "monthly['datum'] = pd.to_datetime(monthly['datum'], format= '%Y-%m-%d')"
      ],
      "metadata": {
        "id": "U-hhKVW5Hw4A"
      },
      "execution_count": null,
      "outputs": []
    },
    {
      "cell_type": "markdown",
      "source": [
        "# **seeing the monthly series**"
      ],
      "metadata": {
        "id": "0VH1muV5JCKs"
      }
    },
    {
      "cell_type": "code",
      "source": [
        "# extracting year, month and day from datum\n",
        "monthly['year'] = monthly['datum'].dt.year\n",
        "monthly['month'] = monthly['datum'].dt.month\n",
        "monthly['day'] = monthly['datum'].dt.day"
      ],
      "metadata": {
        "id": "yMBb7CVMJPMv"
      },
      "execution_count": null,
      "outputs": []
    },
    {
      "cell_type": "code",
      "source": [
        "# replacing index of the table from date for easy analysis\n",
        "monthly.set_index(monthly['datum'], inplace=True)"
      ],
      "metadata": {
        "id": "BRTfwhRyKfG5"
      },
      "execution_count": null,
      "outputs": []
    },
    {
      "cell_type": "code",
      "source": [
        "monthly.isnull().sum()"
      ],
      "metadata": {
        "id": "g7BvuR5hzbri"
      },
      "execution_count": null,
      "outputs": []
    },
    {
      "cell_type": "markdown",
      "source": [
        "this implies therea are zero null values"
      ],
      "metadata": {
        "id": "w0hoB9j5zeMB"
      }
    },
    {
      "cell_type": "code",
      "source": [
        "monthly.sample(3)"
      ],
      "metadata": {
        "id": "HNiFZ3bnzj4f"
      },
      "execution_count": null,
      "outputs": []
    },
    {
      "cell_type": "code",
      "source": [
        "monthly.tail(3)"
      ],
      "metadata": {
        "id": "qWb2s3KdzsHQ"
      },
      "execution_count": null,
      "outputs": []
    },
    {
      "cell_type": "code",
      "source": [
        "monthly.columns"
      ],
      "metadata": {
        "id": "VvWY77-O1pYn"
      },
      "execution_count": null,
      "outputs": []
    },
    {
      "cell_type": "code",
      "source": [
        "med_columns = ['M01AB', 'M01AE', 'N02BA', 'N02BE', 'N05B', 'N05C', 'R03', 'R06']\n",
        "for col in med_columns:\n",
        "    plt.figure(figsize=(10, 6))\n",
        "    plt.plot(monthly.index, monthly[col], 'ro-')\n",
        "    plt.title(f'{col} Time Series')\n",
        "    plt.xlabel(col)\n",
        "    plt.ylabel('Sales Value')\n",
        "    plt.show()"
      ],
      "metadata": {
        "id": "SrcJJA_B1yeb"
      },
      "execution_count": null,
      "outputs": []
    },
    {
      "cell_type": "markdown",
      "source": [
        "Adding total-sales column in monthly table"
      ],
      "metadata": {
        "id": "XP8i4t8w3vQQ"
      }
    },
    {
      "cell_type": "code",
      "source": [
        "monthly['total_sales'] = monthly['M01AB']\n",
        "for cols in monthly.columns[2:9]:\n",
        "    monthly['total_sales'] = monthly['total_sales'] + monthly[cols]"
      ],
      "metadata": {
        "id": "dir-1bDs3o2C"
      },
      "execution_count": null,
      "outputs": []
    },
    {
      "cell_type": "code",
      "source": [
        "# plotting the total sales data\n",
        "plt.figure(figsize=(10, 6))\n",
        "plt.plot(monthly.index, monthly['total_sales'], 'ro-')\n",
        "plt.xlabel('Date Time')\n",
        "plt.ylabel('Total Sales')\n",
        "plt.title('Total Sales of Drugs')\n",
        "plt.show()"
      ],
      "metadata": {
        "id": "DF-JSqfef4By"
      },
      "execution_count": null,
      "outputs": []
    },
    {
      "cell_type": "code",
      "source": [
        "# calculating the Simple Moving Average with a week size of 4\n",
        "window_size = 4\n",
        "monthly['SMA'] = monthly['total_sales'].rolling(window_size, min_periods=1).mean()\n",
        "\n",
        "# Now plotting this SMA and total Sales on a single graph\n",
        "plt.figure(figsize=(10, 6))\n",
        "plt.plot(monthly.index, monthly['total_sales'], label='Original Data')\n",
        "plt.plot(monthly.index, monthly['SMA'], 'ro-', label=f'SMA ({window_size}-week window)')\n",
        "plt.title('Monthly Drug Sales with Simple Moving Average')\n",
        "plt.xlabel('Date')\n",
        "plt.ylabel('Drug Sales')\n",
        "plt.legend()\n",
        "plt.show()"
      ],
      "metadata": {
        "id": "Y_bSXsSygfsU"
      },
      "execution_count": null,
      "outputs": []
    },
    {
      "cell_type": "markdown",
      "source": [
        "As SMA smoothens out noise from the time series. We can clearly see the red coloured curve has lower fluctuations. Also the sales of drugs is consistent over the years. Also, the seasonality at the end of each year is very clear as well. The sales at the end of each year increases."
      ],
      "metadata": {
        "id": "KMe44QvKiZ5m"
      }
    },
    {
      "cell_type": "code",
      "source": [
        "# cheching for stationarity of the time series\n",
        "def perform_adf_test(series):\n",
        "    result = adfuller(series)\n",
        "    print('ADF Statistic: %f' % result[0])\n",
        "    print('p-value: %f' % result[1])"
      ],
      "metadata": {
        "id": "lGLvnP5oihw_"
      },
      "execution_count": null,
      "outputs": []
    },
    {
      "cell_type": "code",
      "source": [
        "perform_adf_test(monthly[\"total_sales\"])"
      ],
      "metadata": {
        "id": "l_hSfNyrmOyQ"
      },
      "execution_count": null,
      "outputs": []
    },
    {
      "cell_type": "code",
      "source": [
        "perform_adf_test(monthly[\"SMA\"])"
      ],
      "metadata": {
        "id": "TcLSLy0fmWXJ"
      },
      "execution_count": null,
      "outputs": []
    },
    {
      "cell_type": "markdown",
      "source": [
        "Chechking ACF and PACF plots"
      ],
      "metadata": {
        "id": "1gT3FTeCm1Xq"
      }
    },
    {
      "cell_type": "code",
      "source": [
        "# infer the frequency of the data\n",
        "monthly = monthly.asfreq(pd.infer_freq(monthly.index))"
      ],
      "metadata": {
        "id": "XUcCjvQbmqvm"
      },
      "execution_count": null,
      "outputs": []
    },
    {
      "cell_type": "code",
      "source": [
        "# Plot ACF and PACF of the differenced series\n",
        "fig, (ax1, ax2) = plt.subplots(2, 1, figsize=(10, 8))\n",
        "sm.graphics.tsa.plot_acf(monthly['total_sales'], lags=30, ax=ax1)\n",
        "sm.graphics.tsa.plot_pacf(monthly['total_sales'], lags=30, ax=ax2)\n",
        "plt.show()"
      ],
      "metadata": {
        "id": "v6sXeywmmvDc"
      },
      "execution_count": null,
      "outputs": []
    },
    {
      "cell_type": "markdown",
      "source": [
        "p, q should be 1, 1 according to ACF, PACF tests respectively"
      ],
      "metadata": {
        "id": "iq6DmhVNnGV3"
      }
    },
    {
      "cell_type": "markdown",
      "source": [
        "# ARMA(1,1) model or simply using AR(1) or MA(1) model to fit our time series"
      ],
      "metadata": {
        "id": "3oGrfQaAnDmy"
      }
    },
    {
      "cell_type": "markdown",
      "source": [
        "# Train test split to check the efficiency of our model"
      ],
      "metadata": {
        "id": "TxPFBz0TnT6O"
      }
    },
    {
      "cell_type": "code",
      "source": [
        "train_end = dt.datetime(2019,7,31)\n",
        "# test_end = datetime(2004,1,1) till end\n",
        "\n",
        "train_data = monthly[:train_end]\n",
        "test_data = monthly[train_end + dt.timedelta(days=1):]"
      ],
      "metadata": {
        "id": "evGKPHH9m4u5"
      },
      "execution_count": null,
      "outputs": []
    },
    {
      "cell_type": "markdown",
      "source": [
        "We will forecast only 2 months of data in advance because prediction beyond a certain limit is useless and leads to error"
      ],
      "metadata": {
        "id": "ymhhoaJbn9Jk"
      }
    },
    {
      "cell_type": "markdown",
      "source": [
        "## Not using ARMA model because the p values for coefficients of MA model are more than 0.05, that's why rejecting those values and sticking to AR model"
      ],
      "metadata": {
        "id": "ED8aE8b0oKIG"
      }
    },
    {
      "cell_type": "code",
      "source": [
        "# Fit an ARIMA model to the  total sales series\n",
        "# p, d, q = 1, 0, 1  # You can adjust these values based on ACF and PACF analysis\n",
        "\n",
        "model = statsmodels.tsa.ar_model.AutoReg(train_data[\"total_sales\"], lags=1)\n",
        "results = model.fit()"
      ],
      "metadata": {
        "id": "N0seBJ46oLiW"
      },
      "execution_count": null,
      "outputs": []
    },
    {
      "cell_type": "code",
      "source": [
        "# Print model summary\n",
        "print(results.summary())"
      ],
      "metadata": {
        "id": "qWWGgIJVn4sX"
      },
      "execution_count": null,
      "outputs": []
    },
    {
      "cell_type": "markdown",
      "source": [
        "Means AR model'S coefficient is useful but the MA seems to be useless as per its p value"
      ],
      "metadata": {
        "id": "YlY1hi17ohwE"
      }
    },
    {
      "cell_type": "markdown",
      "source": [
        "## So our series follow AR(1) model which is:\n",
        "$\\hat{y_t} = 1182.0998 + 0.3558y_{t-1}  $"
      ],
      "metadata": {
        "id": "5Hgm3GWMolz3"
      }
    },
    {
      "cell_type": "code",
      "source": [
        "test_data"
      ],
      "metadata": {
        "id": "Z0dZbmcsoo3d"
      },
      "execution_count": null,
      "outputs": []
    },
    {
      "cell_type": "code",
      "source": [
        "# Forecast the next 10 time steps\n",
        "forecast = results.forecast(steps=3)\n",
        "\n",
        "# Plot the forecast\n",
        "plt.figure(figsize=(10, 6))\n",
        "plt.plot(train_data.index, train_data['total_sales'], label='Observed')\n",
        "plt.plot(test_data.index, test_data['total_sales'], label='True Test Data')\n",
        "plt.plot(forecast.index, forecast, label='Forecast')\n",
        "plt.title('Total Sales of Drugs Forecast')\n",
        "plt.xlabel('Date')\n",
        "plt.ylabel('Total Sales')\n",
        "plt.legend()\n",
        "plt.show()"
      ],
      "metadata": {
        "id": "NzdGxClno0UB"
      },
      "execution_count": null,
      "outputs": []
    },
    {
      "cell_type": "code",
      "source": [
        "forecast"
      ],
      "metadata": {
        "id": "RetX6JAapHjq"
      },
      "execution_count": null,
      "outputs": []
    },
    {
      "cell_type": "code",
      "source": [
        "residuals = test_data[\"total_sales\"] - forecast"
      ],
      "metadata": {
        "id": "l277l64-pOdz"
      },
      "execution_count": null,
      "outputs": []
    },
    {
      "cell_type": "code",
      "source": [
        "plt.figure(figsize=(10,4))\n",
        "plt.plot(residuals, 'bo-')\n",
        "plt.title('Residuals from AR Model', fontsize=20)\n",
        "plt.ylabel('Error', fontsize=16)\n",
        "plt.axhline(0, color='g', linestyle='-', alpha=0.2)"
      ],
      "metadata": {
        "id": "PAso-enIpPH-"
      },
      "execution_count": null,
      "outputs": []
    },
    {
      "cell_type": "code",
      "source": [
        "print('Root Mean Squared Error:', np.sqrt(np.mean(residuals**2)))"
      ],
      "metadata": {
        "id": "PxqAauVCphzd"
      },
      "execution_count": null,
      "outputs": []
    },
    {
      "cell_type": "markdown",
      "source": [
        "# Findings\n",
        "The AR(1) model works fine for predicting just 2 data points but root mean square error is high due to last data point."
      ],
      "metadata": {
        "id": "3w0KaReHpnzR"
      }
    }
  ]
}